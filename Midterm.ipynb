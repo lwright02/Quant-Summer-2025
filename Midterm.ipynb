{
 "cells": [
  {
   "cell_type": "markdown",
   "id": "a2ab4965",
   "metadata": {},
   "source": [
    "*Midterm - Liam Wright, 7/14/2025*"
   ]
  },
  {
   "cell_type": "markdown",
   "id": "4b25a50b",
   "metadata": {},
   "source": [
    "**1. Risk Statistics and Decomposition**"
   ]
  },
  {
   "cell_type": "code",
   "execution_count": 56,
   "id": "65fa8f13",
   "metadata": {},
   "outputs": [
    {
     "data": {
      "text/html": [
       "<div>\n",
       "<style scoped>\n",
       "    .dataframe tbody tr th:only-of-type {\n",
       "        vertical-align: middle;\n",
       "    }\n",
       "\n",
       "    .dataframe tbody tr th {\n",
       "        vertical-align: top;\n",
       "    }\n",
       "\n",
       "    .dataframe thead th {\n",
       "        text-align: right;\n",
       "    }\n",
       "</style>\n",
       "<table border=\"1\" class=\"dataframe\">\n",
       "  <thead>\n",
       "    <tr style=\"text-align: right;\">\n",
       "      <th></th>\n",
       "      <th>mean_ann</th>\n",
       "      <th>vol_ann</th>\n",
       "      <th>sharpe</th>\n",
       "      <th>skew</th>\n",
       "      <th>kurt</th>\n",
       "      <th>max_drawdown</th>\n",
       "    </tr>\n",
       "  </thead>\n",
       "  <tbody>\n",
       "    <tr>\n",
       "      <th>SPY</th>\n",
       "      <td>0.118939</td>\n",
       "      <td>0.171315</td>\n",
       "      <td>0.694271</td>\n",
       "      <td>-0.627808</td>\n",
       "      <td>6.363700</td>\n",
       "      <td>-0.325741</td>\n",
       "    </tr>\n",
       "    <tr>\n",
       "      <th>AAPL</th>\n",
       "      <td>0.227994</td>\n",
       "      <td>0.276003</td>\n",
       "      <td>0.826057</td>\n",
       "      <td>-0.214185</td>\n",
       "      <td>1.852149</td>\n",
       "      <td>-0.348104</td>\n",
       "    </tr>\n",
       "    <tr>\n",
       "      <th>NVDA</th>\n",
       "      <td>0.653633</td>\n",
       "      <td>0.461871</td>\n",
       "      <td>1.415184</td>\n",
       "      <td>0.336949</td>\n",
       "      <td>1.391086</td>\n",
       "      <td>-0.657787</td>\n",
       "    </tr>\n",
       "    <tr>\n",
       "      <th>MSFT</th>\n",
       "      <td>0.253320</td>\n",
       "      <td>0.239516</td>\n",
       "      <td>1.057631</td>\n",
       "      <td>0.066817</td>\n",
       "      <td>2.372360</td>\n",
       "      <td>-0.350826</td>\n",
       "    </tr>\n",
       "    <tr>\n",
       "      <th>GOOGL</th>\n",
       "      <td>0.220044</td>\n",
       "      <td>0.279465</td>\n",
       "      <td>0.787376</td>\n",
       "      <td>0.572854</td>\n",
       "      <td>3.673239</td>\n",
       "      <td>-0.415141</td>\n",
       "    </tr>\n",
       "    <tr>\n",
       "      <th>AMZN</th>\n",
       "      <td>0.300886</td>\n",
       "      <td>0.305453</td>\n",
       "      <td>0.985051</td>\n",
       "      <td>0.061550</td>\n",
       "      <td>1.754491</td>\n",
       "      <td>-0.545830</td>\n",
       "    </tr>\n",
       "    <tr>\n",
       "      <th>META</th>\n",
       "      <td>0.274415</td>\n",
       "      <td>0.352006</td>\n",
       "      <td>0.779574</td>\n",
       "      <td>0.062078</td>\n",
       "      <td>3.990455</td>\n",
       "      <td>-0.758756</td>\n",
       "    </tr>\n",
       "    <tr>\n",
       "      <th>TSLA</th>\n",
       "      <td>0.462420</td>\n",
       "      <td>0.586525</td>\n",
       "      <td>0.788407</td>\n",
       "      <td>0.535479</td>\n",
       "      <td>1.585674</td>\n",
       "      <td>-0.721138</td>\n",
       "    </tr>\n",
       "    <tr>\n",
       "      <th>AVGO</th>\n",
       "      <td>0.382419</td>\n",
       "      <td>0.375069</td>\n",
       "      <td>1.019597</td>\n",
       "      <td>0.639696</td>\n",
       "      <td>3.515656</td>\n",
       "      <td>-0.409481</td>\n",
       "    </tr>\n",
       "    <tr>\n",
       "      <th>BRK-B</th>\n",
       "      <td>0.130218</td>\n",
       "      <td>0.189958</td>\n",
       "      <td>0.685508</td>\n",
       "      <td>-0.199913</td>\n",
       "      <td>2.608872</td>\n",
       "      <td>-0.266894</td>\n",
       "    </tr>\n",
       "    <tr>\n",
       "      <th>LLY</th>\n",
       "      <td>0.268667</td>\n",
       "      <td>0.283345</td>\n",
       "      <td>0.948195</td>\n",
       "      <td>0.210125</td>\n",
       "      <td>1.638064</td>\n",
       "      <td>-0.254568</td>\n",
       "    </tr>\n",
       "  </tbody>\n",
       "</table>\n",
       "</div>"
      ],
      "text/plain": [
       "       mean_ann   vol_ann    sharpe      skew      kurt  max_drawdown\n",
       "SPY    0.118939  0.171315  0.694271 -0.627808  6.363700     -0.325741\n",
       "AAPL   0.227994  0.276003  0.826057 -0.214185  1.852149     -0.348104\n",
       "NVDA   0.653633  0.461871  1.415184  0.336949  1.391086     -0.657787\n",
       "MSFT   0.253320  0.239516  1.057631  0.066817  2.372360     -0.350826\n",
       "GOOGL  0.220044  0.279465  0.787376  0.572854  3.673239     -0.415141\n",
       "AMZN   0.300886  0.305453  0.985051  0.061550  1.754491     -0.545830\n",
       "META   0.274415  0.352006  0.779574  0.062078  3.990455     -0.758756\n",
       "TSLA   0.462420  0.586525  0.788407  0.535479  1.585674     -0.721138\n",
       "AVGO   0.382419  0.375069  1.019597  0.639696  3.515656     -0.409481\n",
       "BRK-B  0.130218  0.189958  0.685508 -0.199913  2.608872     -0.266894\n",
       "LLY    0.268667  0.283345  0.948195  0.210125  1.638064     -0.254568"
      ]
     },
     "execution_count": 56,
     "metadata": {},
     "output_type": "execute_result"
    }
   ],
   "source": [
    "import pandas as pd\n",
    "import numpy as np\n",
    "import seaborn as sns\n",
    "import matplotlib.pyplot as plt\n",
    "import statsmodels.api as sm\n",
    "\n",
    "#Given\n",
    "DATAFILE = '/home/lwright02/Quant-Summer-2025/data/midterm_data.xlsx'\n",
    "SHEET_INFO = 'info'\n",
    "info = pd.read_excel(DATAFILE,sheet_name=SHEET_INFO)\n",
    "info.set_index('ticker',inplace=True)\n",
    "rets = pd.read_excel(DATAFILE,sheet_name='excess returns')\n",
    "rets.set_index('date',inplace=True)\n",
    "rets.columns = [s.split(' ')[0] for s in rets.columns]\n",
    "rets = rets[info.index]\n",
    "\n",
    "#Helper functions for each def\n",
    "def annualize(weekly_vals):\n",
    "    return weekly_vals.mean() * 52\n",
    "def annual_vol(weekly_vals):\n",
    "    return weekly_vals.std() * np.sqrt(52)\n",
    "def sharpe(weekly_vals):\n",
    "    return annualize(weekly_vals) / annual_vol(weekly_vals)\n",
    "def max_drawdown(series):\n",
    "    cum_returns = (1 + series).cumprod()\n",
    "    peak = cum_returns.cummax()\n",
    "    drawdown = (cum_returns - peak) / peak\n",
    "    return drawdown.min()\n",
    "\n",
    "#Graph Display\n",
    "stats = pd.DataFrame({\n",
    "    'mean_ann': annualize(rets),\n",
    "    'vol_ann': annual_vol(rets),\n",
    "    'sharpe': sharpe(rets),\n",
    "    'skew': rets.skew(),\n",
    "    'kurt': rets.kurtosis(),\n",
    "    'max_drawdown': rets.apply(max_drawdown)\n",
    "})\n",
    "stats"
   ]
  },
  {
   "cell_type": "markdown",
   "id": "47100cd9",
   "metadata": {},
   "source": [
    "**1.2**\n",
    "- As a standalone investment, NVDA look to be the most attractive, as it has the highest Sharpe Ratio, with the largest mean annual return. The least attractive standalone invesment looks like the BRK-B and the SPY which have the lowest Sharpe Ratios, and the lowest mean annual returns."
   ]
  },
  {
   "cell_type": "code",
   "execution_count": 100,
   "id": "e19d1707",
   "metadata": {},
   "outputs": [
    {
     "data": {
      "text/html": [
       "<div>\n",
       "<style scoped>\n",
       "    .dataframe tbody tr th:only-of-type {\n",
       "        vertical-align: middle;\n",
       "    }\n",
       "\n",
       "    .dataframe tbody tr th {\n",
       "        vertical-align: top;\n",
       "    }\n",
       "\n",
       "    .dataframe thead th {\n",
       "        text-align: right;\n",
       "    }\n",
       "</style>\n",
       "<table border=\"1\" class=\"dataframe\">\n",
       "  <thead>\n",
       "    <tr style=\"text-align: right;\">\n",
       "      <th></th>\n",
       "      <th>alpha_ann</th>\n",
       "      <th>beta</th>\n",
       "      <th>info_ratio</th>\n",
       "      <th>r_squared</th>\n",
       "    </tr>\n",
       "  </thead>\n",
       "  <tbody>\n",
       "    <tr>\n",
       "      <th>AAPL</th>\n",
       "      <td>0.096511</td>\n",
       "      <td>1.105465</td>\n",
       "      <td>-2.759745e-16</td>\n",
       "      <td>0.470818</td>\n",
       "    </tr>\n",
       "    <tr>\n",
       "      <th>NVDA</th>\n",
       "      <td>0.449431</td>\n",
       "      <td>1.716860</td>\n",
       "      <td>-2.963732e-17</td>\n",
       "      <td>0.405526</td>\n",
       "    </tr>\n",
       "    <tr>\n",
       "      <th>MSFT</th>\n",
       "      <td>0.131683</td>\n",
       "      <td>1.022681</td>\n",
       "      <td>1.938708e-16</td>\n",
       "      <td>0.535057</td>\n",
       "    </tr>\n",
       "    <tr>\n",
       "      <th>GOOGL</th>\n",
       "      <td>0.093870</td>\n",
       "      <td>1.060832</td>\n",
       "      <td>3.728469e-17</td>\n",
       "      <td>0.422891</td>\n",
       "    </tr>\n",
       "    <tr>\n",
       "      <th>AMZN</th>\n",
       "      <td>0.174753</td>\n",
       "      <td>1.060484</td>\n",
       "      <td>1.719277e-16</td>\n",
       "      <td>0.353762</td>\n",
       "    </tr>\n",
       "    <tr>\n",
       "      <th>META</th>\n",
       "      <td>0.137196</td>\n",
       "      <td>1.153691</td>\n",
       "      <td>-1.811687e-17</td>\n",
       "      <td>0.315260</td>\n",
       "    </tr>\n",
       "    <tr>\n",
       "      <th>TSLA</th>\n",
       "      <td>0.258016</td>\n",
       "      <td>1.718565</td>\n",
       "      <td>1.768477e-16</td>\n",
       "      <td>0.251971</td>\n",
       "    </tr>\n",
       "    <tr>\n",
       "      <th>AVGO</th>\n",
       "      <td>0.221165</td>\n",
       "      <td>1.355773</td>\n",
       "      <td>-1.433513e-16</td>\n",
       "      <td>0.383480</td>\n",
       "    </tr>\n",
       "    <tr>\n",
       "      <th>BRK-B</th>\n",
       "      <td>0.033790</td>\n",
       "      <td>0.810733</td>\n",
       "      <td>-7.126300e-17</td>\n",
       "      <td>0.534602</td>\n",
       "    </tr>\n",
       "    <tr>\n",
       "      <th>LLY</th>\n",
       "      <td>0.195315</td>\n",
       "      <td>0.616715</td>\n",
       "      <td>-8.028741e-17</td>\n",
       "      <td>0.139036</td>\n",
       "    </tr>\n",
       "  </tbody>\n",
       "</table>\n",
       "</div>"
      ],
      "text/plain": [
       "       alpha_ann      beta    info_ratio  r_squared\n",
       "AAPL    0.096511  1.105465 -2.759745e-16   0.470818\n",
       "NVDA    0.449431  1.716860 -2.963732e-17   0.405526\n",
       "MSFT    0.131683  1.022681  1.938708e-16   0.535057\n",
       "GOOGL   0.093870  1.060832  3.728469e-17   0.422891\n",
       "AMZN    0.174753  1.060484  1.719277e-16   0.353762\n",
       "META    0.137196  1.153691 -1.811687e-17   0.315260\n",
       "TSLA    0.258016  1.718565  1.768477e-16   0.251971\n",
       "AVGO    0.221165  1.355773 -1.433513e-16   0.383480\n",
       "BRK-B   0.033790  0.810733 -7.126300e-17   0.534602\n",
       "LLY     0.195315  0.616715 -8.028741e-17   0.139036"
      ]
     },
     "execution_count": 100,
     "metadata": {},
     "output_type": "execute_result"
    }
   ],
   "source": [
    "from sklearn.linear_model import LinearRegression\n",
    "results = {}\n",
    "spy = rets['SPY'].values.reshape(-1, 1)\n",
    "\n",
    "# Copilot ->Propmt: \"loop to estimate alpha/beta/info ratio/R² from a regression of all tickers against SPY in my returns DataFrame\"\n",
    "for ticker in rets.columns.drop('SPY'):\n",
    "    asset = rets[ticker]\n",
    "    lr = LinearRegression().fit(spy, asset)\n",
    "    alpha = asset.mean() - lr.coef_[0] * spy.mean()\n",
    "    beta = lr.coef_[0]\n",
    "    predicted = lr.predict(spy)\n",
    "    residuals = asset - predicted\n",
    "    info_ratio = residuals.mean() / residuals.std() * np.sqrt(52)\n",
    "    r2 = lr.score(spy, asset)\n",
    "    \n",
    "    results[ticker] = {\n",
    "        'alpha_ann': alpha * 52,\n",
    "        'beta': beta,\n",
    "        'info_ratio': info_ratio,\n",
    "        'r_squared': r2\n",
    "    }\n",
    "\n",
    "regression_df = pd.DataFrame(results).T\n",
    "regression_df\n"
   ]
  },
  {
   "cell_type": "markdown",
   "id": "7b07e0da",
   "metadata": {},
   "source": [
    "**1.4** \n",
    "- Relative to holding SPY, the NVDA is likely the most attractive investment as it has a very strong alpha, with a decent R^2 value. The beta is quite high though so it may be a little risky."
   ]
  },
  {
   "cell_type": "code",
   "execution_count": 68,
   "id": "52e3eeea",
   "metadata": {},
   "outputs": [
    {
     "name": "stdout",
     "output_type": "stream",
     "text": [
      "SPY: -1.02\n",
      "NVDA: -0.05\n"
     ]
    }
   ],
   "source": [
    "X = rets[['SPY', 'NVDA']]\n",
    "y = rets['AAPL']\n",
    "\n",
    "lr = LinearRegression().fit(X, y)\n",
    "weights = lr.coef_\n",
    "intercept = lr.intercept_\n",
    "\n",
    "print(f\"SPY: {-weights[0]:.2f}\\nNVDA: {-weights[1]:.2f}\")"
   ]
  },
  {
   "cell_type": "markdown",
   "id": "e4249d0b",
   "metadata": {},
   "source": [
    "For every $100 in AAPL, we should short 1.02 in SPY and 0.05 in NVDA."
   ]
  },
  {
   "cell_type": "markdown",
   "id": "59615f70",
   "metadata": {},
   "source": [
    "**1.6**\n",
    "- In replicating AAPL using SPY, and NVDA, the R^2 statistic best indicates if our replication tracks the target well. The R^2 literally track how well the AAPL returns are explained by SPY and NVDA."
   ]
  },
  {
   "cell_type": "markdown",
   "id": "2946240f",
   "metadata": {},
   "source": [
    "**1.7** \n",
    "- In the ProShares case we did indeed find the replication attempt successful. We achieved an 81.2% correlation in the HFRI Index. The replication strategy using Merrill Lynch factors closely tracked the hedge-fund index returns. Some drawback to using our replication over the direct product involve the replication’s tracking error which may be low but is still there, meaning some risk and return differences remain. Therefore it is not a perfect substitute. The replication also does not fully capture all of the complex strategies of the hedge-fund."
   ]
  },
  {
   "cell_type": "markdown",
   "id": "13501e04",
   "metadata": {},
   "source": [
    "**2. Portfolio Allocation**"
   ]
  },
  {
   "cell_type": "code",
   "execution_count": 69,
   "id": "4dc47117",
   "metadata": {},
   "outputs": [
    {
     "data": {
      "image/png": "[encoded data removed]",
      "text/plain": [
       "<Figure size 640x480 with 2 Axes>"
      ]
     },
     "metadata": {},
     "output_type": "display_data"
    }
   ],
   "source": [
    "correlation_matrix = rets.corr()\n",
    "sns.heatmap(correlation_matrix, annot=True, fmt=\".2f\", cmap='coolwarm')\n",
    "plt.title(\"Correlation Matrix of Weekly Excess Returns\")\n",
    "plt.show()"
   ]
  },
  {
   "cell_type": "markdown",
   "id": "8e88a230",
   "metadata": {},
   "source": [
    "I anticipate that LLY will get extra weight in the portfolio, beyond what it would merit for its mean return because it has the lowest correlation with pretty much all of the other assets, thus it will provide diversification benefits to a portfolio. This would then lower risk."
   ]
  },
  {
   "cell_type": "code",
   "execution_count": 70,
   "id": "78cb54e6",
   "metadata": {},
   "outputs": [
    {
     "name": "stdout",
     "output_type": "stream",
     "text": [
      "SPY     -7.893588\n",
      "AAPL     0.477018\n",
      "NVDA     1.067801\n",
      "MSFT     0.859136\n",
      "GOOGL    0.298598\n",
      "AMZN     0.536354\n",
      "META     0.385017\n",
      "TSLA     0.337308\n",
      "AVGO     0.645620\n",
      "BRK-B    3.084359\n",
      "LLY      1.202377\n",
      "Name: Tangency Weights, dtype: float64\n"
     ]
    }
   ],
   "source": [
    "mu = rets.mean() * 52\n",
    "cov = rets.cov() * 52\n",
    "\n",
    "# Invert covariance matrix\n",
    "cov_inv = pd.DataFrame(\n",
    "    data=np.linalg.inv(cov.values), \n",
    "    index=cov.columns, \n",
    "    columns=cov.columns\n",
    ")\n",
    "\n",
    "raw_weights = cov_inv @ mu\n",
    "normalizer = (cov_inv @ mu).sum()\n",
    "tangency_weights = raw_weights / normalizer\n",
    "\n",
    "tangency_weights = tangency_weights.rename(\"Tangency Weights\")\n",
    "print(tangency_weights)"
   ]
  },
  {
   "cell_type": "code",
   "execution_count": 98,
   "id": "ee5b22dc",
   "metadata": {},
   "outputs": [
    {
     "name": "stdout",
     "output_type": "stream",
     "text": [
      "Annualized Mean: 1.5458\n",
      "Annualized Volatility: 0.7235\n",
      "Annualized Sharpe Ratio: 2.1364\n"
     ]
    }
   ],
   "source": [
    "weights = tangency_weights\n",
    "mu_aligned = mu.loc[weights.index]\n",
    "cov_aligned = cov.loc[weights.index, weights.index]\n",
    "\n",
    "port_mean = weights.dot(mu_aligned)\n",
    "port_var = weights.dot(cov_aligned.dot(weights))\n",
    "port_vol = port_var ** 0.5\n",
    "port_sharpe = port_mean / port_vol\n",
    "\n",
    "print(f\"Annualized Mean: {port_mean:.4f}\")\n",
    "print(f\"Annualized Volatility: {port_vol:.4f}\")\n",
    "print(f\"Annualized Sharpe Ratio: {port_sharpe:.4f}\")"
   ]
  },
  {
   "cell_type": "markdown",
   "id": "7b7ed387",
   "metadata": {},
   "source": [
    "**2.4**\n",
    "- The largest positive weight typically has the highest Sharpe ratio, as the optimizer favors assets with higher expected returns relative to their risk. In our case, the BRK-B has the biggest positive weight and SPY has the most negative weight. Neither of them have the biggest sharpe ratios. The optimizer does't assign weights solely based on each asset’s standalone Sharpe ratio, but rather maximizes the portfolio’s overall Sharpe ratio by considering other variables such as expected returns, and correlations b/w assets."
   ]
  },
  {
   "cell_type": "code",
   "execution_count": 88,
   "id": "d7ff6567",
   "metadata": {},
   "outputs": [
    {
     "name": "stdout",
     "output_type": "stream",
     "text": [
      "AAPL    -0.078166\n",
      "NVDA     0.370675\n",
      "MSFT     0.014582\n",
      "GOOGL   -0.071598\n",
      "AMZN     0.145160\n",
      "META     0.028621\n",
      "TSLA     0.038724\n",
      "AVGO     0.104653\n",
      "BRK-B    0.047814\n",
      "LLY      0.399535\n",
      "Name: Tangency Weights w/o SPY, dtype: float64\n"
     ]
    }
   ],
   "source": [
    "rets_no_spy = rets.drop(columns='SPY')\n",
    "mu2 = rets_no_spy.mean() * 52\n",
    "cov2 = rets_no_spy.cov() * 52\n",
    "\n",
    "# Invert covariance\n",
    "cov2_inv = pd.DataFrame(\n",
    "    np.linalg.inv(cov2.values), \n",
    "    index=cov2.columns, \n",
    "    columns=cov2.columns\n",
    ")\n",
    "\n",
    "raw_weights = cov2_inv.dot(mu2)\n",
    "tangency_weights_pandas = raw_weights / raw_weights.sum()\n",
    "\n",
    "tangency_no_spy = tangency_weights_pandas.rename(\"Tangency Weights w/o SPY\")\n",
    "print(tangency_no_spy)"
   ]
  },
  {
   "cell_type": "markdown",
   "id": "5c27723d",
   "metadata": {},
   "source": [
    "**2.6**\n",
    "- performance of the tangency portfolio. **True**\n",
    "- weights of the tangency portfolio. **True**\n",
    "- correlation structure of the assets. **False**"
   ]
  },
  {
   "cell_type": "markdown",
   "id": "701b8eb3",
   "metadata": {},
   "source": [
    "**2.7**\n",
    "1. The optimized portfolio is unrealistic in practice because tt often produces extreme long and short positions that are impossible. For example, in lecture we talked about going long 200%+ in one asset and 200%+ short in another, which will never happen in real life.\n",
    "\n",
    "2. Harvard uses robust optimization to make theirs more practical. Harvard incorporates uncertainty which results in stabler and more realistic portfolios that are less sensitive to estimation error.\n",
    "\n",
    "3. Harvard optimized in levels because it gives more control and a better estimation as asset class level parameters are stabler and easier to estimate than individual security parameters. It also reduce complexity."
   ]
  },
  {
   "cell_type": "markdown",
   "id": "2c3a3413",
   "metadata": {},
   "source": [
    "**3. Expected Returns**"
   ]
  },
  {
   "cell_type": "code",
   "execution_count": 79,
   "id": "ecd12286",
   "metadata": {},
   "outputs": [
    {
     "name": "stdout",
     "output_type": "stream",
     "text": [
      "R²: 0.4055\n",
      "Beta: 1.7169\n",
      "Annualized Alpha: 0.4494\n"
     ]
    }
   ],
   "source": [
    "nvda = rets['NVDA'].dropna()\n",
    "spy = rets['SPY'].dropna()\n",
    "lr = LinearRegression().fit(spy.values.reshape(-1, 1), nvda)\n",
    "\n",
    "beta = lr.coef_[0]\n",
    "alpha = lr.intercept_\n",
    "alpha_ann = alpha * 52\n",
    "r2 = lr.score(spy.values.reshape(-1, 1), nvda)\n",
    "\n",
    "print(f\"R²: {r2:.4f}\")\n",
    "print(f\"Beta: {beta:.4f}\")\n",
    "print(f\"Annualized Alpha: {alpha_ann:.4f}\")"
   ]
  },
  {
   "cell_type": "markdown",
   "id": "430ae0b4",
   "metadata": {},
   "source": [
    "**3.2**\n",
    "- My regression only has an R^2 of 0.4055, and it also has a positive alpha. The weak R^2 shows that it doesn't price very accurately."
   ]
  },
  {
   "cell_type": "markdown",
   "id": "dad0f67d",
   "metadata": {},
   "source": [
    "**3.3**"
   ]
  },
  {
   "cell_type": "code",
   "execution_count": 80,
   "id": "62f0926d",
   "metadata": {},
   "outputs": [
    {
     "name": "stdout",
     "output_type": "stream",
     "text": [
      "Avg Excess Return: 0.6536\n",
      "Excess Return explained by Factor Risk: 0.2042\n"
     ]
    }
   ],
   "source": [
    "nvda = rets['NVDA'].dropna()\n",
    "nvda_mean_ann = nvda.mean() * 52\n",
    "print(f\"Avg Excess Return: {nvda_mean_ann:.4f}\")\n",
    "\n",
    "spy = rets['SPY'].loc[nvda.index]  # Align dates\n",
    "spy_mean_ann = spy.mean() * 52\n",
    "expected_return_capm = beta * spy_mean_ann\n",
    "print(f\"Excess Return explained by Factor Risk: {expected_return_capm:.4f}\")"
   ]
  },
  {
   "cell_type": "markdown",
   "id": "3ee7c813",
   "metadata": {},
   "source": [
    "**3.4**"
   ]
  },
  {
   "cell_type": "code",
   "execution_count": 81,
   "id": "d805d3e6",
   "metadata": {},
   "outputs": [
    {
     "name": "stdout",
     "output_type": "stream",
     "text": [
      "Alpha (weekly): 0.0131\n",
      "Beta: -0.2279\n",
      "R-squared: 0.0071\n"
     ]
    }
   ],
   "source": [
    "# Lag SPY\n",
    "spy_lagged = rets['SPY'].shift(1).dropna()\n",
    "nvda = rets['NVDA'].loc[spy_lagged.index]  # Align NVDA with lagged SPY\n",
    "\n",
    "forecast_lr = LinearRegression().fit(spy_lagged.values.reshape(-1, 1), nvda)\n",
    "forecast_beta = forecast_lr.coef_[0]\n",
    "forecast_alpha = forecast_lr.intercept_\n",
    "forecast_r2 = forecast_lr.score(spy_lagged.values.reshape(-1, 1), nvda)\n",
    "\n",
    "print(f\"Alpha (weekly): {forecast_alpha:.4f}\")\n",
    "print(f\"Beta: {forecast_beta:.4f}\")\n",
    "print(f\"R-squared: {forecast_r2:.4f}\")"
   ]
  },
  {
   "cell_type": "markdown",
   "id": "a390479b",
   "metadata": {},
   "source": [
    "**3.5**\n",
    "- From our data we have a very low R^2, thus confirming that SPY’s lagged return isn;t a meaningful signal for NVDA’s weekly movement. Our R^2 tells us that SPY explains less than 1% of NVDA’s weekly return variance. Our slight alpha tells us that NVDA tends to rise even when SPY is flat but the model is such a weak predictor that it doesn;t really matter. We can conclude that NVDA’s movements are driven by factors outside of simple market lag"
   ]
  },
  {
   "cell_type": "markdown",
   "id": "f88c61b5",
   "metadata": {},
   "source": [
    "**3.6**"
   ]
  },
  {
   "cell_type": "code",
   "execution_count": 82,
   "id": "8e531272",
   "metadata": {},
   "outputs": [
    {
     "name": "stdout",
     "output_type": "stream",
     "text": [
      "7/2025 NVDA Forecasted return: 0.2806\n"
     ]
    }
   ],
   "source": [
    "forecast_alpha = 0.0131\n",
    "forecast_beta = -0.2279\n",
    "\n",
    "# Most recent SPY excess return\n",
    "spy_latest = rets['SPY'].iloc[-1]\n",
    "\n",
    "# Forecasted NVDA weekly return for early July 2025\n",
    "expected_nvda_weekly = forecast_alpha + forecast_beta * spy_latest\n",
    "\n",
    "expected_nvda_annual = expected_nvda_weekly * 52\n",
    "\n",
    "print(f\"7/2025 NVDA Forecasted return: {expected_nvda_annual:.4f}\")"
   ]
  },
  {
   "cell_type": "markdown",
   "id": "72587a36",
   "metadata": {},
   "source": [
    "**3.7**\n",
    "- Creating style factors which go long and short the targeted style serves to reduce biases and confounders. It also removes market exposure and enhances validity. Essentially, without this this, one can't tell if returns came from market moves or the factor itself."
   ]
  }
 ],
 "metadata": {
  "kernelspec": {
   "display_name": "venv",
   "language": "python",
   "name": "python3"
  },
  "language_info": {
   "codemirror_mode": {
    "name": "ipython",
    "version": 3
   },
   "file_extension": ".py",
   "mimetype": "text/x-python",
   "name": "python",
   "nbconvert_exporter": "python",
   "pygments_lexer": "ipython3",
   "version": "3.12.3"
  }
 },
 "nbformat": 4,
 "nbformat_minor": 5
}
