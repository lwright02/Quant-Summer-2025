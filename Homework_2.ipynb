{
 "cells": [
  {
   "cell_type": "markdown",
   "id": "c6cd9a41",
   "metadata": {},
   "source": [
    "### Part 1 - The ProShares ETF Product\n",
    "\n",
    "**1.1**\n",
    "\n",
    "- Alternative Asset ETFs - ETFs that invest in non-traditional asset classes, such as real assets, or private equity.\n",
    "\n",
    "- Alternative Strategy ETFs - ETF that apply non-traditional investment strategies, such as long/short equity, multi-asset, or risk-parity strategies.\n",
    "\n",
    "**1.2**\n",
    "\n",
    "- Two measures by which hedge funds are an attractive investment: \n",
    "\n",
    "- Main Benefits of investing in hedge funds via ETF instead of directly:\n",
    "\n",
    "**1.3**\n",
    "\n",
    "- ??\n",
    "\n",
    "**1.4**\n",
    "\n",
    "- ??"
   ]
  }
 ],
 "metadata": {
  "language_info": {
   "name": "python"
  }
 },
 "nbformat": 4,
 "nbformat_minor": 5
}
