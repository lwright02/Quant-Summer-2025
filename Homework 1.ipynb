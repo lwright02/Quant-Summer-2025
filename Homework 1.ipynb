{
 "cells": [
  {
   "cell_type": "code",
   "execution_count": null,
   "id": "6ffeda17",
   "metadata": {},
   "outputs": [],
   "source": [
    "import pandas as pd\n",
    "import numpy as np\n",
    "\n",
    "file_path = \"data/multi_asset_etf_data.xlsx\"\n",
    "returns = pd.read_excel(file_path, sheet_name=\"excess returns\", index_col=0)\n",
    "\n",
    "returns.head()"
   ]
  },
  {
   "cell_type": "code",
   "execution_count": null,
   "id": "8cffa242",
   "metadata": {},
   "outputs": [],
   "source": [
    "SCALE_MEAN = 12\n",
    "SCALE_VAL = np.sqrt(12)\n",
    "SCALE_SHARPE = np.sqrt(12)"
   ]
  }
 ],
 "metadata": {
  "language_info": {
   "name": "python"
  }
 },
 "nbformat": 4,
 "nbformat_minor": 5
}
